{
 "cells": [
  {
   "cell_type": "code",
   "execution_count": 1,
   "id": "90bac7f7-12cd-4af6-b686-532f24cfb0d3",
   "metadata": {},
   "outputs": [
    {
     "name": "stdout",
     "output_type": "stream",
     "text": [
      "2.6.0\n"
     ]
    }
   ],
   "source": [
    "import spektral\n",
    "import tensorflow as tf\n",
    "import numpy as np\n",
    "\n",
    "print(tf.__version__)"
   ]
  },
  {
   "cell_type": "markdown",
   "id": "95e17533-7dbe-4dfb-9055-bd0094d554fe",
   "metadata": {},
   "source": [
    "Load and pre-process graph representation data."
   ]
  },
  {
   "cell_type": "code",
   "execution_count": 14,
   "id": "96cd1e20-288c-4b97-a4ec-8873afa8e72c",
   "metadata": {},
   "outputs": [
    {
     "name": "stdout",
     "output_type": "stream",
     "text": [
      "Loading cora dataset\n",
      "Pre-processing node features\n"
     ]
    }
   ],
   "source": [
    "adj, features, labels, train_mask, val_mask, test_mask = spektral.datasets.citation.load_data(dataset_name='cora')"
   ]
  },
  {
   "cell_type": "code",
   "execution_count": 15,
   "id": "692b68fe-aeb7-4173-bd09-2361c20fcfc7",
   "metadata": {},
   "outputs": [
    {
     "name": "stdout",
     "output_type": "stream",
     "text": [
      "2708 nodes\n",
      "1433 features in every node\n",
      "7 classes\n",
      "140 training nodes\n",
      "500 validation nodes\n",
      "1000 test nodes\n"
     ]
    }
   ],
   "source": [
    "features = features.todense()\n",
    "# The adjacency matric doesn't come with self edges so we need to add the identity matrix \n",
    "adj = adj.todense() + np.eye(adj.shape[0])\n",
    "features = features.astype('float32')\n",
    "adj = adj.astype('float32')\n",
    "\n",
    "print(features.shape[0], 'nodes')\n",
    "print(features.shape[1], 'features in every node')\n",
    "print(labels.shape[1], 'classes')\n",
    "\n",
    "print(np.sum(train_mask), 'training nodes')\n",
    "print(np.sum(val_mask), 'validation nodes')\n",
    "print(np.sum(test_mask), 'test nodes')"
   ]
  },
  {
   "cell_type": "code",
   "execution_count": 18,
   "id": "06a851e2-c053-498e-aa88-941ad888dd8d",
   "metadata": {},
   "outputs": [],
   "source": [
    "def masked_softmax_cross_entropy(logits, labels, mask):\n",
    "    '''Applies loss function taking into account the mask to\n",
    "       only take into account relevant nodes.\n",
    "       \n",
    "       Returns cross entropy loss over the masked nodes of the graph.'''\n",
    "    loss = tf.nn.softmax_cross_entropy_with_logits(logits, labels)\n",
    "    mask = tf.cast(mask, dtype=tf.float32)\n",
    "    # Divide mask by its average value that will enable us to take the product of the mask with the loss\n",
    "    mask /= tf.reduce_mean(mask)\n",
    "    loss *= mask\n",
    "    # return average across all positions\n",
    "    return tf.reduce_mean(loss)\n",
    "\n",
    "\n",
    "def masked_accuracy(logits, labels, mask):\n",
    "    '''Returns accuracy over the masked nodes of the graph.'''\n",
    "    correct_prediction = tf.equal(tf.argmax(logits, 1), tf.argmax(labels, 1))\n",
    "    accuracy_all = tf.cast(correct_prediction, dtype=tf.float32)\n",
    "    mask = tf.cast(mask, dtype=tf.float32)\n",
    "    mask /= tf.reduce_mean(mask)\n",
    "    accuracy_all *= mask\n",
    "    return tf.reduce_mean(accuracy_all)"
   ]
  },
  {
   "cell_type": "code",
   "execution_count": null,
   "id": "9ad83f4e-5aa4-466c-adce-2be95ed98ce0",
   "metadata": {},
   "outputs": [],
   "source": [
    "def gnn(fts, adj, tranform, activation)\n",
    "    '''\n",
    "    Define a Graph Neural Network layer.\n",
    "    fts: node feature matrix\n",
    "    adj: adjacency matrix\n",
    "    transform: some transformation that we wish to apply to each node\n",
    "    activation: activation function\n",
    "    '''\n",
    "    # Transform each node \n",
    "    seq_fts = transform(fts)\n",
    "    # Once we have the features we want to aggregate we multiply by the adjacency matrix\n",
    "    "
   ]
  }
 ],
 "metadata": {
  "kernelspec": {
   "display_name": "Python 3 (ipykernel)",
   "language": "python",
   "name": "python3"
  },
  "language_info": {
   "codemirror_mode": {
    "name": "ipython",
    "version": 3
   },
   "file_extension": ".py",
   "mimetype": "text/x-python",
   "name": "python",
   "nbconvert_exporter": "python",
   "pygments_lexer": "ipython3",
   "version": "3.8.11"
  }
 },
 "nbformat": 4,
 "nbformat_minor": 5
}
