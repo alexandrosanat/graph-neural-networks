{
 "cells": [
  {
   "cell_type": "code",
   "execution_count": 1,
   "id": "5b851e19-e3c6-43b1-8168-89c2cee8346c",
   "metadata": {},
   "outputs": [],
   "source": [
    "from collections import namedtuple\n",
    "\n",
    "import networkx as nx\n",
    "from networkx import read_edgelist, set_node_attributes, to_numpy_matrix\n",
    "import pandas as pd\n",
    "from numpy import array\n",
    "import torch\n",
    "import torch.nn as nn\n",
    "import torch.optim as optim\n",
    "import matplotlib.pyplot as plt\n",
    "import numpy as np"
   ]
  },
  {
   "cell_type": "code",
   "execution_count": 2,
   "id": "0725edb4-2b95-42ac-bac6-09d7dc7fe152",
   "metadata": {},
   "outputs": [],
   "source": [
    "DataSet = namedtuple(\n",
    "    'DataSet',\n",
    "    field_names=['X_train', 'y_train', 'X_test', 'y_test', 'network']\n",
    ")\n",
    "\n",
    "\n",
    "def load_karate_club():\n",
    "    network = read_edgelist(\n",
    "        'data/zkc.edgelist',\n",
    "        nodetype=int)\n",
    "\n",
    "    attributes = pd.read_csv(\n",
    "        'data/features.csv',\n",
    "        index_col=['node'])\n",
    "\n",
    "    for attribute in attributes.columns.values:\n",
    "        set_node_attributes(\n",
    "            network,\n",
    "            values=pd.Series(\n",
    "                attributes[attribute],\n",
    "                index=attributes.index).to_dict(),\n",
    "            name=attribute\n",
    "        )\n",
    "\n",
    "    X_train, y_train = map(array, zip(*[\n",
    "        ([node], data['role'] == 'Administrator')\n",
    "        for node, data in network.nodes(data=True)\n",
    "        if data['role'] in {'Administrator', 'Instructor'}\n",
    "    ]))\n",
    "\n",
    "    X_test, y_test = map(array, zip(*[\n",
    "        ([node], data['community'] == 'Administrator')\n",
    "        for node, data in network.nodes(data=True)\n",
    "        if data['role'] == 'Member'\n",
    "    ]))\n",
    "\n",
    "    return DataSet(\n",
    "        X_train, y_train,\n",
    "        X_test, y_test,\n",
    "        network)"
   ]
  },
  {
   "cell_type": "code",
   "execution_count": 3,
   "id": "688b0f05-a94b-404e-bf14-d0815d83bac3",
   "metadata": {},
   "outputs": [],
   "source": [
    "zkc = load_karate_club()"
   ]
  },
  {
   "cell_type": "markdown",
   "id": "b248ba49-db5f-4f46-a8a0-8eb0b8a591cf",
   "metadata": {},
   "source": [
    "Test labels"
   ]
  },
  {
   "cell_type": "code",
   "execution_count": 23,
   "id": "4b65fc28-b826-4097-9c0e-12f63cba319b",
   "metadata": {},
   "outputs": [
    {
     "data": {
      "text/plain": [
       "array([[ 1,  1],\n",
       "       [ 2,  1],\n",
       "       [ 3,  1],\n",
       "       [ 4,  1],\n",
       "       [ 5,  1],\n",
       "       [ 6,  1],\n",
       "       [ 7,  1],\n",
       "       [ 8,  1],\n",
       "       [10,  1],\n",
       "       [11,  1],\n",
       "       [12,  1],\n",
       "       [13,  1],\n",
       "       [17,  1],\n",
       "       [19,  1],\n",
       "       [21,  1],\n",
       "       [31,  0],\n",
       "       [30,  0],\n",
       "       [ 9,  0],\n",
       "       [27,  0],\n",
       "       [28,  0],\n",
       "       [32,  0],\n",
       "       [16,  1],\n",
       "       [14,  0],\n",
       "       [15,  0],\n",
       "       [18,  0],\n",
       "       [20,  0],\n",
       "       [22,  0],\n",
       "       [23,  0],\n",
       "       [25,  0],\n",
       "       [29,  0],\n",
       "       [24,  0],\n",
       "       [26,  0]])"
      ]
     },
     "execution_count": 23,
     "metadata": {},
     "output_type": "execute_result"
    }
   ],
   "source": [
    "np.concatenate((zkc.X_test, np.reshape(zkc.y_test,(zkc.y_test.size, -1))), axis=1)"
   ]
  },
  {
   "cell_type": "code",
   "execution_count": null,
   "id": "c3d31ab7-3e64-45b8-a501-e00fd76b35a3",
   "metadata": {},
   "outputs": [],
   "source": []
  }
 ],
 "metadata": {
  "kernelspec": {
   "display_name": "Python 3 (ipykernel)",
   "language": "python",
   "name": "python3"
  },
  "language_info": {
   "codemirror_mode": {
    "name": "ipython",
    "version": 3
   },
   "file_extension": ".py",
   "mimetype": "text/x-python",
   "name": "python",
   "nbconvert_exporter": "python",
   "pygments_lexer": "ipython3",
   "version": "3.8.11"
  }
 },
 "nbformat": 4,
 "nbformat_minor": 5
}
