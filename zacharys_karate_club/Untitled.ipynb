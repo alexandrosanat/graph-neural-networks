{
 "cells": [
  {
   "cell_type": "code",
   "execution_count": 3,
   "id": "0211f407-66fe-4ace-b47e-cf75f7aad20c",
   "metadata": {},
   "outputs": [
    {
     "name": "stdout",
     "output_type": "stream",
     "text": [
      "Training loss:  tensor(26.1734, grad_fn=<MseLossBackward>)\n"
     ]
    }
   ],
   "source": [
    "import torch\n",
    "import torch.nn as nn\n",
    "import numpy as np\n",
    "\n",
    "# Input (temp, rainfall, humidity)\n",
    "inputs = np.array([[73, 67, 43], [91, 88, 64], [87, 134, 58], [102, 43, 37], [69, 96, 70], [73, 67, 43], [91, 88, 64], [87, 134, 58], [102, 43, 37], [69, 96, 70], [73, 67, 43], [91, 88, 64], [87, 134, 58], [102, 43, 37], [69, 96, 70]], dtype='float32')\n",
    "# Targets (apples, oranges)\n",
    "targets = np.array([[56, 70], [81, 101], [119, 133], [22, 37], [103, 119], \n",
    "                    [56, 70], [81, 101], [119, 133], [22, 37], [103, 119], \n",
    "                    [56, 70], [81, 101], [119, 133], [22, 37], [103, 119]], dtype='float32')\n",
    "inputs = torch.from_numpy(inputs)\n",
    "targets = torch.from_numpy(targets)\n",
    "\n",
    "# Import tensor dataset & data loader\n",
    "from torch.utils.data import TensorDataset, DataLoader\n",
    "\n",
    "# Define dataset\n",
    "train_ds = TensorDataset(inputs, targets)\n",
    "\n",
    "# Define data loader\n",
    "batch_size = 5\n",
    "train_dl = DataLoader(train_ds, batch_size, shuffle=True)\n",
    "\n",
    "#Define model\n",
    "model = nn.Linear(3,2)\n",
    "\n",
    "#Define optimizer\n",
    "opt = torch.optim.SGD(model.parameters(), lr=1e-5)\n",
    "\n",
    "# Import nn.functional\n",
    "import torch.nn.functional as F\n",
    "\n",
    "#Define loss function\n",
    "loss_fn = F.mse_loss\n",
    "\n",
    "#Define a utility function to train the model\n",
    "def fit(num_epochs, model, loss_fn, opt):\n",
    "    for epoch in range(num_epochs):\n",
    "        for xb,yb in train_dl:\n",
    "            #Generate predictions\n",
    "            pred = model(xb)\n",
    "            loss = loss_fn(pred,yb)\n",
    "            #Perform gradient descent\n",
    "            loss.backward()\n",
    "            opt.step()\n",
    "            opt.zero_grad()\n",
    "    print('Training loss: ', loss_fn(model(inputs), targets))\n",
    "\n",
    "#Train the model for 100 epochs\n",
    "fit(100, model, loss_fn, opt)\n",
    "\n",
    "#Generate predictions\n",
    "preds = model(inputs)"
   ]
  },
  {
   "cell_type": "code",
   "execution_count": 4,
   "id": "c9b4ab9f-6839-4f6a-a65e-ad5db5910565",
   "metadata": {},
   "outputs": [
    {
     "data": {
      "text/plain": [
       "tensor([[ 58.5270,  71.7512],\n",
       "        [ 80.4594,  98.3610],\n",
       "        [120.9791, 136.3923],\n",
       "        [ 28.0292,  44.5905],\n",
       "        [ 94.8509, 110.6798],\n",
       "        [ 58.5270,  71.7512],\n",
       "        [ 80.4594,  98.3610],\n",
       "        [120.9791, 136.3923],\n",
       "        [ 28.0292,  44.5905],\n",
       "        [ 94.8509, 110.6798],\n",
       "        [ 58.5270,  71.7512],\n",
       "        [ 80.4594,  98.3610],\n",
       "        [120.9791, 136.3923],\n",
       "        [ 28.0292,  44.5905],\n",
       "        [ 94.8509, 110.6798]], grad_fn=<AddmmBackward>)"
      ]
     },
     "execution_count": 4,
     "metadata": {},
     "output_type": "execute_result"
    }
   ],
   "source": [
    "model(inputs)"
   ]
  },
  {
   "cell_type": "code",
   "execution_count": null,
   "id": "a2a48e54-4d3b-446d-8a78-341a53cd83b3",
   "metadata": {},
   "outputs": [],
   "source": []
  },
  {
   "cell_type": "code",
   "execution_count": 6,
   "id": "eba64c1e-ce64-4d54-859d-7b4bcd1c4928",
   "metadata": {},
   "outputs": [],
   "source": [
    "x1 = np.random.randint(1, 100, (1, 15)).reshape(-1, 1)\n",
    "x2 = np.random.randint(1, 100, (1, 15)).reshape(-1, 1)\n",
    "features = np.concatenate((x1, x2), 1)"
   ]
  },
  {
   "cell_type": "code",
   "execution_count": 9,
   "id": "bffb7d27-7903-4f7b-9135-f76cc8130937",
   "metadata": {},
   "outputs": [],
   "source": [
    "targets = 3 * x1 + 2 * x2"
   ]
  },
  {
   "cell_type": "code",
   "execution_count": 8,
   "id": "be1cd7f3-10be-49e5-9d0a-ea01083b6d54",
   "metadata": {},
   "outputs": [
    {
     "data": {
      "text/plain": [
       "array([[93, 17],\n",
       "       [62,  5],\n",
       "       [86, 12],\n",
       "       [66,  5],\n",
       "       [37, 54],\n",
       "       [79, 91],\n",
       "       [92, 62],\n",
       "       [78, 18],\n",
       "       [ 2, 49],\n",
       "       [42, 19],\n",
       "       [63, 78],\n",
       "       [63, 44],\n",
       "       [31,  8],\n",
       "       [74, 30],\n",
       "       [41, 28]])"
      ]
     },
     "execution_count": 8,
     "metadata": {},
     "output_type": "execute_result"
    }
   ],
   "source": [
    "features"
   ]
  },
  {
   "cell_type": "code",
   "execution_count": 11,
   "id": "d6ff5702-ce12-4618-a3f0-718cd986daf7",
   "metadata": {},
   "outputs": [
    {
     "name": "stdout",
     "output_type": "stream",
     "text": [
      "Training loss:  tensor(0.0415, grad_fn=<MseLossBackward>)\n"
     ]
    },
    {
     "name": "stderr",
     "output_type": "stream",
     "text": [
      "/var/folders/dz/nnw9rhd17_z5sf73fstryqhr0000gn/T/ipykernel_5631/3537288087.py:14: UserWarning: To copy construct from a tensor, it is recommended to use sourceTensor.clone().detach() or sourceTensor.clone().detach().requires_grad_(True), rather than torch.tensor(sourceTensor).\n",
      "  targets = torch.tensor(targets, dtype=torch.float32)\n"
     ]
    }
   ],
   "source": [
    "import torch\n",
    "import torch.nn as nn\n",
    "import numpy as np\n",
    "\n",
    "# Input (temp, rainfall, humidity)\n",
    "# inputs = np.array([[73, 67, 43], [91, 88, 64], [87, 134, 58], [102, 43, 37], [69, 96, 70], [73, 67, 43], [91, 88, 64], [87, 134, 58], [102, 43, 37], [69, 96, 70], [73, 67, 43], [91, 88, 64], [87, 134, 58], [102, 43, 37], [69, 96, 70]], dtype='float32')\n",
    "inputs = features\n",
    "# Targets (apples, oranges)\n",
    "#targets = np.array([[56, 70], [81, 101], [119, 133], [22, 37], [103, 119], \n",
    "#                    [56, 70], [81, 101], [119, 133], [22, 37], [103, 119], \n",
    "#                    [56, 70], [81, 101], [119, 133], [22, 37], [103, 119]], dtype='float32')\n",
    "\n",
    "inputs = torch.tensor(inputs, dtype=torch.float32)\n",
    "targets = torch.tensor(targets, dtype=torch.float32)\n",
    "\n",
    "# Import tensor dataset & data loader\n",
    "from torch.utils.data import TensorDataset, DataLoader\n",
    "\n",
    "# Define dataset\n",
    "train_ds = TensorDataset(inputs, targets)\n",
    "\n",
    "# Define data loader\n",
    "batch_size = 5\n",
    "train_dl = DataLoader(train_ds, batch_size, shuffle=True)\n",
    "\n",
    "#Define model\n",
    "model = nn.Linear(2, 1)\n",
    "\n",
    "#Define optimizer\n",
    "opt = torch.optim.SGD(model.parameters(), lr=1e-5)\n",
    "\n",
    "# Import nn.functional\n",
    "import torch.nn.functional as F\n",
    "\n",
    "#Define loss function\n",
    "loss_fn = F.mse_loss\n",
    "\n",
    "#Define a utility function to train the model\n",
    "def fit(num_epochs, model, loss_fn, opt):\n",
    "    for epoch in range(num_epochs):\n",
    "        for xb,yb in train_dl:\n",
    "            #Generate predictions\n",
    "            pred = model(xb)\n",
    "            loss = loss_fn(pred,yb)\n",
    "            #Perform gradient descent\n",
    "            loss.backward()\n",
    "            opt.step()\n",
    "            opt.zero_grad()\n",
    "    print('Training loss: ', loss_fn(model(inputs), targets))\n",
    "\n",
    "#Train the model for 100 epochs\n",
    "fit(100, model, loss_fn, opt)\n",
    "\n",
    "#Generate predictions\n",
    "preds = model(inputs)"
   ]
  },
  {
   "cell_type": "code",
   "execution_count": 12,
   "id": "12d449de-d9fc-4006-baf4-20d18f4237ce",
   "metadata": {},
   "outputs": [
    {
     "data": {
      "text/plain": [
       "tensor([[313.2637],\n",
       "        [196.0826],\n",
       "        [282.2311],\n",
       "        [208.1116],\n",
       "        [218.7235],\n",
       "        [418.8936],\n",
       "        [400.0931],\n",
       "        [270.1513],\n",
       "        [103.4880],\n",
       "        [163.8868],\n",
       "        [344.8248],\n",
       "        [276.9482],\n",
       "        [108.8470],\n",
       "        [282.0788],\n",
       "        [178.8469]], grad_fn=<AddmmBackward>)"
      ]
     },
     "execution_count": 12,
     "metadata": {},
     "output_type": "execute_result"
    }
   ],
   "source": [
    "preds"
   ]
  },
  {
   "cell_type": "code",
   "execution_count": 13,
   "id": "afe49e34-786b-406b-9faf-f334bd1c67b5",
   "metadata": {},
   "outputs": [
    {
     "data": {
      "text/plain": [
       "tensor([[313.],\n",
       "        [196.],\n",
       "        [282.],\n",
       "        [208.],\n",
       "        [219.],\n",
       "        [419.],\n",
       "        [400.],\n",
       "        [270.],\n",
       "        [104.],\n",
       "        [164.],\n",
       "        [345.],\n",
       "        [277.],\n",
       "        [109.],\n",
       "        [282.],\n",
       "        [179.]])"
      ]
     },
     "execution_count": 13,
     "metadata": {},
     "output_type": "execute_result"
    }
   ],
   "source": [
    "targets"
   ]
  },
  {
   "cell_type": "code",
   "execution_count": null,
   "id": "2548c066-117c-4768-ae3b-2156d784fe8c",
   "metadata": {},
   "outputs": [],
   "source": []
  }
 ],
 "metadata": {
  "kernelspec": {
   "display_name": "Python 3 (ipykernel)",
   "language": "python",
   "name": "python3"
  },
  "language_info": {
   "codemirror_mode": {
    "name": "ipython",
    "version": 3
   },
   "file_extension": ".py",
   "mimetype": "text/x-python",
   "name": "python",
   "nbconvert_exporter": "python",
   "pygments_lexer": "ipython3",
   "version": "3.8.11"
  }
 },
 "nbformat": 4,
 "nbformat_minor": 5
}
